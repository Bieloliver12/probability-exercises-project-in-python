{
 "cells": [
  {
   "cell_type": "markdown",
   "id": "a41f3622",
   "metadata": {},
   "source": [
    "# Ejercicios de probabilidad"
   ]
  },
  {
   "cell_type": "markdown",
   "id": "a6bdbd89",
   "metadata": {},
   "source": [
    "## Ejercicio 1 \n",
    "\n",
    "Dos dados se lanzan una vez y se observa el total obtenido. Usa una simulación para encontrar la probabilidad estimada de que la puntuación sea mayor a 7 o un número par. Una simulación es una repetición del mismo experimento multiples veces para observar su comportamiento:\n",
    "\n",
    "- Ejecuta el experimento 1000 veces (lanza 2 dados 1000 veces, y suma el número de ambos dados).\n",
    "- Lleva ua cuenta de los números y las veces que la suma fue mayor a 7 o un número par.\n",
    "- Divide el número del paso 2 entre el número de iteraciones(1000)."
   ]
  },
  {
   "cell_type": "code",
   "execution_count": 14,
   "id": "8939d892",
   "metadata": {},
   "outputs": [
    {
     "name": "stdout",
     "output_type": "stream",
     "text": [
      "El recuento de numero de pares es: 509, y la de mayores a 7: 418\n",
      "0.509\n"
     ]
    }
   ],
   "source": [
    "# TODO\n",
    "import numpy as np\n",
    "np.random.seed(0)\n",
    "n_lanzamientos = 1000\n",
    "lanzamientos1 = np.random.randint(1,7, size=n_lanzamientos)\n",
    "lanzamientos2 = np.random.randint(1,7,size=n_lanzamientos)\n",
    "resultados=list(lanzamientos1+lanzamientos2)\n",
    "mayores_a_7 = sum(1 for i in resultados if i > 7)\n",
    "pares= sum(1 for i in resultados if i%2==0)\n",
    "print(f'El recuento de numero de pares es: {pares}, y la de mayores a 7: {mayores_a_7}')\n",
    "porcentaje_pares = pares/n_lanzamientos\n",
    "print(porcentaje_pares)\n",
    "\n",
    "\n"
   ]
  },
  {
   "cell_type": "markdown",
   "id": "55732bca",
   "metadata": {},
   "source": [
    "## Ejercicio 2\n",
    "\n",
    "Una caja contiene 10 bolas blancas, 20 bolas rojas y 30 bolas verdes. Si tomamos 5 bolas de la caja reemplazándolas (tomando una bola, anotando el color y luego regresandola a la caja). Queremos saber la probabilidad de:\n",
    "\n",
    "1. Tomar 3 blancas y 2 rojas.\n",
    "2. Toas todas del mismo color.\n",
    "\n",
    "Ejecuta el experimento 1000 veces y calcula las probabilidades que mencionadas."
   ]
  },
  {
   "cell_type": "code",
   "execution_count": 7,
   "id": "23244d20",
   "metadata": {},
   "outputs": [
    {
     "name": "stdout",
     "output_type": "stream",
     "text": [
      "{0: 'White', 1: 'White', 2: 'White', 3: 'White', 4: 'White', 5: 'White', 6: 'White', 7: 'White', 8: 'White', 9: 'White', 10: 'Red', 11: 'Red', 12: 'Red', 13: 'Red', 14: 'Red', 15: 'Red', 16: 'Red', 17: 'Red', 18: 'Red', 19: 'Red', 20: 'Red', 21: 'Red', 22: 'Red', 23: 'Red', 24: 'Red', 25: 'Red', 26: 'Red', 27: 'Red', 28: 'Red', 29: 'Red', 30: 'Green', 31: 'Green', 32: 'Green', 33: 'Green', 34: 'Green', 35: 'Green', 36: 'Green', 37: 'Green', 38: 'Green', 39: 'Green', 40: 'Green', 41: 'Green', 42: 'Green', 43: 'Green', 44: 'Green', 45: 'Green', 46: 'Green', 47: 'Green', 48: 'Green', 49: 'Green', 50: 'Green', 51: 'Green', 52: 'Green', 53: 'Green', 54: 'Green', 55: 'Green', 56: 'Green', 57: 'Green', 58: 'Green', 59: 'Green'}\n",
      "Probabilidad de sacar 3 bolas blancas y 2 bolas rojas: 0.40%\n",
      "Probabilidad de sacar todas las bolas del mismo color: 3.20%\n"
     ]
    }
   ],
   "source": [
    "ball_box = {}\n",
    "\n",
    "# Crea la cajas con las bolas\n",
    "for i in range(60):\n",
    "    if i < 10:\n",
    "        ball_box[i] = \"White\"\n",
    "    elif (i > 9) and (i < 30):\n",
    "        ball_box[i] = \"Red\"\n",
    "    else:\n",
    "        ball_box[i] = \"Green\"\n",
    "\n",
    "print(ball_box)\n",
    "            \n",
    "# TODO\n",
    "import random\n",
    "\n",
    "blancas = 10\n",
    "rojas = 20\n",
    "verdes = 30\n",
    "total_bolas = blancas + rojas + verdes\n",
    "\n",
    "contador_3_blancas_2_rojas = 0\n",
    "contador_todas_mismo_color = 0\n",
    "experimentos = 1000\n",
    "\n",
    "for _ in range(experimentos):\n",
    "    bolas_aleatorias = random.choices(['blanco'] * blancas + ['rojo'] * rojas + ['verde'] * verdes, k=5)\n",
    "    total_blancas = bolas_aleatorias.count('blanco')\n",
    "    total_rojas = bolas_aleatorias.count('rojo')\n",
    "    total_verdes = bolas_aleatorias.count('verde')\n",
    "    if total_blancas == 3 and total_rojas == 2:\n",
    "        contador_3_blancas_2_rojas += 1\n",
    "    if total_blancas == 5 or total_rojas == 5 or total_verdes == 5:\n",
    "        contador_todas_mismo_color += 1\n",
    "probabilidad_3_blancas_2_rojas = contador_3_blancas_2_rojas / experimentos\n",
    "probabilidad_todas_mismo_color = contador_todas_mismo_color / experimentos\n",
    "\n",
    "print(f\"Probabilidad de sacar 3 bolas blancas y 2 bolas rojas: {probabilidad_3_blancas_2_rojas*100:.2f}%\")\n",
    "print(f\"Probabilidad de sacar todas las bolas del mismo color: {probabilidad_todas_mismo_color*100:.2f}%\")\n",
    "\n",
    "\n",
    "\n",
    "\n"
   ]
  },
  {
   "cell_type": "code",
   "execution_count": null,
   "id": "bd7de46e",
   "metadata": {},
   "outputs": [],
   "source": []
  }
 ],
 "metadata": {
  "kernelspec": {
   "display_name": "Python 3",
   "language": "python",
   "name": "python3"
  },
  "language_info": {
   "codemirror_mode": {
    "name": "ipython",
    "version": 3
   },
   "file_extension": ".py",
   "mimetype": "text/x-python",
   "name": "python",
   "nbconvert_exporter": "python",
   "pygments_lexer": "ipython3",
   "version": "3.11.4"
  }
 },
 "nbformat": 4,
 "nbformat_minor": 5
}
